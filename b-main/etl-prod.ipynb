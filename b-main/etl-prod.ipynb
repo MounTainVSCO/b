{
 "cells": [
  {
   "cell_type": "code",
   "execution_count": 1,
   "metadata": {},
   "outputs": [
    {
     "name": "stderr",
     "output_type": "stream",
     "text": [
      "C:\\Users\\dynas\\anaconda3\\lib\\site-packages\\pandas\\core\\computation\\expressions.py:20: UserWarning: Pandas requires version '2.7.3' or newer of 'numexpr' (version '2.7.1' currently installed).\n",
      "  from pandas.core.computation.check import NUMEXPR_INSTALLED\n"
     ]
    }
   ],
   "source": [
    "import pandas as pd\n",
    "import sqlalchemy, os, re, pymysql\n",
    "from datetime import datetime, timedelta\n",
    "from dotenv import load_dotenv\n",
    "from sqlalchemy import create_engine, text"
   ]
  },
  {
   "cell_type": "code",
   "execution_count": 2,
   "metadata": {},
   "outputs": [],
   "source": [
    "load_dotenv('config.env')\n",
    "username = os.getenv(\"DB_USERNAME\")\n",
    "password = os.getenv(\"DB_PASSWORD\")\n",
    "host = os.getenv(\"DB_HOST\")\n",
    "database_name = os.getenv(\"DB_NAME\")\n",
    "\n",
    "connect = f\"mysql+pymysql://{username}:{password}@{host}/{database_name}\"\n",
    "engine = sqlalchemy.create_engine(connect)\n",
    "conn = engine.connect()"
   ]
  },
  {
   "cell_type": "code",
   "execution_count": 3,
   "metadata": {},
   "outputs": [],
   "source": [
    "def sql_to_dataframe(table, engine):\n",
    "    q = f'SELECT * FROM {table}'\n",
    "    return pd.read_sql(q, engine)\n",
    "\n",
    "user_df = sql_to_dataframe('user', engine=engine)\n",
    "exercise_set_df = sql_to_dataframe('exercise_set', engine=engine)\n",
    "common_user_ids = pd.Index(user_df['id']).intersection(exercise_set_df['user_id'])\n",
    "\n",
    "filtered_user_df = user_df[user_df['id'].isin(common_user_ids)]\n",
    "filtered_exercise_set_df = exercise_set_df[exercise_set_df['user_id'].isin(common_user_ids)]\n"
   ]
  },
  {
   "cell_type": "code",
   "execution_count": 4,
   "metadata": {},
   "outputs": [],
   "source": [
    "class PumpX_Transform():\n",
    "\n",
    "    def __init__(self, user_df, exercise_set_df) -> None:\n",
    "        self.user_df = user_df\n",
    "        self.exercise_set_df = exercise_set_df\n",
    "\n",
    "    def get_total_loggings_week(self):\n",
    "\n",
    "#         logging_date \ttotal_loggings\n",
    "#         0 \t2024-05-13 \t30\n",
    "#         1 \t2024-05-14 \t39\n",
    "#         2 \t2024-05-15 \t36\n",
    "#         3 \t2024-05-16 \t37\n",
    "#         4 \t2024-05-17 \t29\n",
    "#         5 \t2024-05-18 \t26\n",
    "#         6 \t2024-05-19 \t26\n",
    "\n",
    "        result_dataframe = self.exercise_set_df\n",
    "        result_dataframe['approach_time'] = pd.to_datetime(result_dataframe['approach_time'], errors='coerce')\n",
    "        result_dataframe.dropna(subset=['approach_time'], inplace=True)\n",
    "        current_week = pd.Timestamp.now().isocalendar()[1]\n",
    "        result_dataframe['week_number'] = result_dataframe['approach_time'].apply(lambda x: x.isocalendar()[1])\n",
    "        current_year = pd.Timestamp.now().year\n",
    "        result_dataframe['year'] = result_dataframe['approach_time'].apply(lambda x: x.isocalendar()[0])\n",
    "        filtered_df = result_dataframe[(result_dataframe['week_number'] == current_week) & (result_dataframe['year'] == current_year)]\n",
    "        result = filtered_df.groupby(filtered_df['approach_time'].dt.date)['user_id'].nunique().reset_index()\n",
    "        result.columns = ['logging_date', 'total_loggings']\n",
    "        return result\n",
    "    \n",
    "    def get_goal_and_age_distribution(self):\n",
    "        \n",
    "#         age_group \tgoal \tunder_20 \tage_20_29 \tage_30_39 \tage_40_49 \tage_50_59 \tage_60_above\n",
    "#         0 \tGain Muscle Mass \t67 \t143 \t66 \t24 \t6 \t1\n",
    "#         1 \tImprove Endurance \t0 \t7 \t1 \t0 \t0 \t0\n",
    "#         2 \tLose Weight \t12 \t45 \t29 \t10 \t7 \t0\n",
    "\n",
    "        labels = ['under_20', 'age_20_29', 'age_30_39', 'age_40_49', 'age_50_59', 'age_60_above']\n",
    "        result_dataframe = self.user_df[(self.user_df['goal'].notna()) & (self.user_df['age'].notna())]\n",
    "        bins = [0, 20, 30, 40, 50, 60, 100]\n",
    "        result_dataframe['age_group'] = pd.cut(result_dataframe['age'], bins=bins, labels=labels, right=False)\n",
    "        return result_dataframe.groupby(['goal', 'age_group'])['id'].nunique().unstack(fill_value=0).reset_index()\n",
    "    \n",
    "    def categorize_logging_usage(self, count):\n",
    "        if (count == 1): return \"First_time_logging\"\n",
    "        elif (count == 2): return \"Second_time_logging\"\n",
    "        return \"Three_or_more_loggings\"\n",
    "    \n",
    "    def get_logging_usage_distribution(self):\n",
    "        copy_dataframe = self.exercise_set_df.copy()\n",
    "        copy_dataframe['approach_time'] = pd.to_datetime(copy_dataframe['approach_time'])\n",
    "\n",
    "        result = copy_dataframe.groupby('user_id').agg(\n",
    "            last_date_logged=('approach_time', 'max'),\n",
    "            count_logged=('user_id', 'count')\n",
    "        ).reset_index()\n",
    "\n",
    "        result['last_date_logged'] = pd.to_datetime(result['last_date_logged'])\n",
    "\n",
    "        now = datetime.now()\n",
    "        curr_week = now - timedelta(days=now.weekday() + 1)\n",
    "        end_curr_week = curr_week + timedelta(days=7)\n",
    "\n",
    "        result['year'] = result['last_date_logged'].apply(lambda x: x.isocalendar()[0])\n",
    "        result = result[(result['last_date_logged'] >= curr_week) & \n",
    "                        (result['last_date_logged'] <= end_curr_week) & \n",
    "                        (result['year'] == pd.Timestamp.now().year)]\n",
    "\n",
    "        result['log_category'] = result['count_logged'].apply(self.categorize_logging_usage)\n",
    "        \n",
    "        result['date'] = result['last_date_logged'].dt.date\n",
    "        grouped_daily_df = result.groupby(['date', 'log_category'])['count_logged'].count().unstack(fill_value=0).reset_index()\n",
    "        \n",
    "        return grouped_daily_df\n"
   ]
  },
  {
   "cell_type": "code",
   "execution_count": null,
   "metadata": {},
   "outputs": [],
   "source": [
    "class batch_processing:\n",
    "    "
   ]
  },
  {
   "cell_type": "code",
   "execution_count": null,
   "metadata": {},
   "outputs": [],
   "source": []
  },
  {
   "cell_type": "code",
   "execution_count": null,
   "metadata": {},
   "outputs": [],
   "source": []
  }
 ],
 "metadata": {
  "kernelspec": {
   "display_name": "Python 3",
   "language": "python",
   "name": "python3"
  },
  "language_info": {
   "codemirror_mode": {
    "name": "ipython",
    "version": 3
   },
   "file_extension": ".py",
   "mimetype": "text/x-python",
   "name": "python",
   "nbconvert_exporter": "python",
   "pygments_lexer": "ipython3",
   "version": "3.8.5"
  },
  "vscode": {
   "interpreter": {
    "hash": "3fad5dc8cbdca18e6a6ab2938a66224e9eef5f0f4d934ab6697d20a1121e5558"
   }
  }
 },
 "nbformat": 4,
 "nbformat_minor": 2
}
